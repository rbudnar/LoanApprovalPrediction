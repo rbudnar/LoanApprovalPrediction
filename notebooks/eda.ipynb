{
 "cells": [
  {
   "cell_type": "code",
   "execution_count": 1,
   "metadata": {},
   "outputs": [],
   "source": [
    "%load_ext autoreload\n",
    "%autoreload 2\n",
    "%matplotlib inline"
   ]
  },
  {
   "cell_type": "code",
   "execution_count": null,
   "metadata": {},
   "outputs": [],
   "source": [
    "import os\n",
    "from pathlib import Path\n",
    "import zipfile\n",
    "import duckdb\n",
    "import polars as pl\n",
    "\n",
    "DATA_DIR = Path(os.getcwd()).parent / \"data\""
   ]
  },
  {
   "cell_type": "markdown",
   "metadata": {},
   "source": [
    "## First time setup\n",
    "Download and unzip the data to the data directory."
   ]
  },
  {
   "cell_type": "code",
   "execution_count": 16,
   "metadata": {},
   "outputs": [
    {
     "name": "stdout",
     "output_type": "stream",
     "text": [
      "Downloading playground-series-s4e10.zip to ../data\n",
      "... resuming from 0 bytes (1515882 bytes left) ...\n",
      " 69%|██████████████████████████▎           | 1.00M/1.45M [00:00<00:00, 3.01MB/s]\n",
      "100%|██████████████████████████████████████| 1.45M/1.45M [00:00<00:00, 3.93MB/s]\n"
     ]
    }
   ],
   "source": [
    "!kaggle competitions download -c playground-series-s4e10 -p ../data"
   ]
  },
  {
   "cell_type": "code",
   "execution_count": 30,
   "metadata": {},
   "outputs": [
    {
     "data": {
      "text/plain": [
       "['train.csv',\n",
       " 'sample_submission.csv',\n",
       " 'test.csv',\n",
       " 'playground-series-s4e10.zip']"
      ]
     },
     "execution_count": 30,
     "metadata": {},
     "output_type": "execute_result"
    }
   ],
   "source": [
    "with zipfile.ZipFile(DATA_DIR / \"playground-series-s4e10.zip\", 'r') as zipped:\n",
    "    zipped.extractall(DATA_DIR)\n",
    "os.listdir(DATA_DIR)"
   ]
  },
  {
   "cell_type": "markdown",
   "metadata": {},
   "source": [
    "## Constants"
   ]
  },
  {
   "cell_type": "code",
   "execution_count": 31,
   "metadata": {},
   "outputs": [],
   "source": [
    "target = \"loan_status\""
   ]
  },
  {
   "cell_type": "markdown",
   "metadata": {},
   "source": [
    "## Exploratory Data analysis"
   ]
  },
  {
   "cell_type": "code",
   "execution_count": 29,
   "metadata": {},
   "outputs": [
    {
     "data": {
      "text/html": [
       "<div><style>\n",
       ".dataframe > thead > tr,\n",
       ".dataframe > tbody > tr {\n",
       "  text-align: right;\n",
       "  white-space: pre-wrap;\n",
       "}\n",
       "</style>\n",
       "<small>shape: (58_645, 13)</small><table border=\"1\" class=\"dataframe\"><thead><tr><th>id</th><th>person_age</th><th>person_income</th><th>person_home_ownership</th><th>person_emp_length</th><th>loan_intent</th><th>loan_grade</th><th>loan_amnt</th><th>loan_int_rate</th><th>loan_percent_income</th><th>cb_person_default_on_file</th><th>cb_person_cred_hist_length</th><th>loan_status</th></tr><tr><td>i64</td><td>i64</td><td>i64</td><td>str</td><td>f64</td><td>str</td><td>str</td><td>i64</td><td>f64</td><td>f64</td><td>str</td><td>i64</td><td>i64</td></tr></thead><tbody><tr><td>0</td><td>37</td><td>35000</td><td>&quot;RENT&quot;</td><td>0.0</td><td>&quot;EDUCATION&quot;</td><td>&quot;B&quot;</td><td>6000</td><td>11.49</td><td>0.17</td><td>&quot;N&quot;</td><td>14</td><td>0</td></tr><tr><td>1</td><td>22</td><td>56000</td><td>&quot;OWN&quot;</td><td>6.0</td><td>&quot;MEDICAL&quot;</td><td>&quot;C&quot;</td><td>4000</td><td>13.35</td><td>0.07</td><td>&quot;N&quot;</td><td>2</td><td>0</td></tr><tr><td>2</td><td>29</td><td>28800</td><td>&quot;OWN&quot;</td><td>8.0</td><td>&quot;PERSONAL&quot;</td><td>&quot;A&quot;</td><td>6000</td><td>8.9</td><td>0.21</td><td>&quot;N&quot;</td><td>10</td><td>0</td></tr><tr><td>3</td><td>30</td><td>70000</td><td>&quot;RENT&quot;</td><td>14.0</td><td>&quot;VENTURE&quot;</td><td>&quot;B&quot;</td><td>12000</td><td>11.11</td><td>0.17</td><td>&quot;N&quot;</td><td>5</td><td>0</td></tr><tr><td>4</td><td>22</td><td>60000</td><td>&quot;RENT&quot;</td><td>2.0</td><td>&quot;MEDICAL&quot;</td><td>&quot;A&quot;</td><td>6000</td><td>6.92</td><td>0.1</td><td>&quot;N&quot;</td><td>3</td><td>0</td></tr><tr><td>&hellip;</td><td>&hellip;</td><td>&hellip;</td><td>&hellip;</td><td>&hellip;</td><td>&hellip;</td><td>&hellip;</td><td>&hellip;</td><td>&hellip;</td><td>&hellip;</td><td>&hellip;</td><td>&hellip;</td><td>&hellip;</td></tr><tr><td>58640</td><td>34</td><td>120000</td><td>&quot;MORTGAGE&quot;</td><td>5.0</td><td>&quot;EDUCATION&quot;</td><td>&quot;D&quot;</td><td>25000</td><td>15.95</td><td>0.21</td><td>&quot;Y&quot;</td><td>10</td><td>0</td></tr><tr><td>58641</td><td>28</td><td>28800</td><td>&quot;RENT&quot;</td><td>0.0</td><td>&quot;MEDICAL&quot;</td><td>&quot;C&quot;</td><td>10000</td><td>12.73</td><td>0.35</td><td>&quot;N&quot;</td><td>8</td><td>1</td></tr><tr><td>58642</td><td>23</td><td>44000</td><td>&quot;RENT&quot;</td><td>7.0</td><td>&quot;EDUCATION&quot;</td><td>&quot;D&quot;</td><td>6800</td><td>16.0</td><td>0.15</td><td>&quot;N&quot;</td><td>2</td><td>1</td></tr><tr><td>58643</td><td>22</td><td>30000</td><td>&quot;RENT&quot;</td><td>2.0</td><td>&quot;EDUCATION&quot;</td><td>&quot;A&quot;</td><td>5000</td><td>8.9</td><td>0.17</td><td>&quot;N&quot;</td><td>3</td><td>0</td></tr><tr><td>58644</td><td>31</td><td>75000</td><td>&quot;MORTGAGE&quot;</td><td>2.0</td><td>&quot;VENTURE&quot;</td><td>&quot;B&quot;</td><td>15000</td><td>11.11</td><td>0.2</td><td>&quot;N&quot;</td><td>5</td><td>0</td></tr></tbody></table></div>"
      ],
      "text/plain": [
       "shape: (58_645, 13)\n",
       "┌───────┬────────────┬────────────┬────────────┬───┬───────────┬───────────┬───────────┬───────────┐\n",
       "│ id    ┆ person_age ┆ person_inc ┆ person_hom ┆ … ┆ loan_perc ┆ cb_person ┆ cb_person ┆ loan_stat │\n",
       "│ ---   ┆ ---        ┆ ome        ┆ e_ownershi ┆   ┆ ent_incom ┆ _default_ ┆ _cred_his ┆ us        │\n",
       "│ i64   ┆ i64        ┆ ---        ┆ p          ┆   ┆ e         ┆ on_file   ┆ t_length  ┆ ---       │\n",
       "│       ┆            ┆ i64        ┆ ---        ┆   ┆ ---       ┆ ---       ┆ ---       ┆ i64       │\n",
       "│       ┆            ┆            ┆ str        ┆   ┆ f64       ┆ str       ┆ i64       ┆           │\n",
       "╞═══════╪════════════╪════════════╪════════════╪═══╪═══════════╪═══════════╪═══════════╪═══════════╡\n",
       "│ 0     ┆ 37         ┆ 35000      ┆ RENT       ┆ … ┆ 0.17      ┆ N         ┆ 14        ┆ 0         │\n",
       "│ 1     ┆ 22         ┆ 56000      ┆ OWN        ┆ … ┆ 0.07      ┆ N         ┆ 2         ┆ 0         │\n",
       "│ 2     ┆ 29         ┆ 28800      ┆ OWN        ┆ … ┆ 0.21      ┆ N         ┆ 10        ┆ 0         │\n",
       "│ 3     ┆ 30         ┆ 70000      ┆ RENT       ┆ … ┆ 0.17      ┆ N         ┆ 5         ┆ 0         │\n",
       "│ 4     ┆ 22         ┆ 60000      ┆ RENT       ┆ … ┆ 0.1       ┆ N         ┆ 3         ┆ 0         │\n",
       "│ …     ┆ …          ┆ …          ┆ …          ┆ … ┆ …         ┆ …         ┆ …         ┆ …         │\n",
       "│ 58640 ┆ 34         ┆ 120000     ┆ MORTGAGE   ┆ … ┆ 0.21      ┆ Y         ┆ 10        ┆ 0         │\n",
       "│ 58641 ┆ 28         ┆ 28800      ┆ RENT       ┆ … ┆ 0.35      ┆ N         ┆ 8         ┆ 1         │\n",
       "│ 58642 ┆ 23         ┆ 44000      ┆ RENT       ┆ … ┆ 0.15      ┆ N         ┆ 2         ┆ 1         │\n",
       "│ 58643 ┆ 22         ┆ 30000      ┆ RENT       ┆ … ┆ 0.17      ┆ N         ┆ 3         ┆ 0         │\n",
       "│ 58644 ┆ 31         ┆ 75000      ┆ MORTGAGE   ┆ … ┆ 0.2       ┆ N         ┆ 5         ┆ 0         │\n",
       "└───────┴────────────┴────────────┴────────────┴───┴───────────┴───────────┴───────────┴───────────┘"
      ]
     },
     "execution_count": 29,
     "metadata": {},
     "output_type": "execute_result"
    }
   ],
   "source": [
    "train = pl.read_csv(DATA_DIR / \"train.csv\")\n",
    "test = pl.read_csv(DATA_DIR / \"test.csv\")\n",
    "train"
   ]
  },
  {
   "cell_type": "code",
   "execution_count": null,
   "metadata": {},
   "outputs": [],
   "source": []
  }
 ],
 "metadata": {
  "kernelspec": {
   "display_name": ".venv",
   "language": "python",
   "name": "python3"
  },
  "language_info": {
   "codemirror_mode": {
    "name": "ipython",
    "version": 3
   },
   "file_extension": ".py",
   "mimetype": "text/x-python",
   "name": "python",
   "nbconvert_exporter": "python",
   "pygments_lexer": "ipython3",
   "version": "3.11.10"
  }
 },
 "nbformat": 4,
 "nbformat_minor": 2
}
